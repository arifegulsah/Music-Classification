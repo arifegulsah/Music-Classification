{
 "cells": [
  {
   "cell_type": "markdown",
   "id": "e063091e",
   "metadata": {},
   "source": [
    "# Music Classification into Different Genres\n",
    "\n",
    "### Amaç: Her birinin 100 farklı örneği olan müzik türlerinin, Keras ile bir modele eğitilmesi ve başarılı sonuçlar alabilmek.\n",
    "\n",
    "Adımlar:\n",
    "1. Importing Libs for Preprocessing\n",
    "2. Uploading & Preprocessing Data\n",
    "3. Importing Libs for Model Building\n",
    "4. Building Model\n",
    "5. Evaluating Model\n",
    "6. Outcomes\n",
    "7. Final"
   ]
  },
  {
   "cell_type": "markdown",
   "id": "c6c5a475",
   "metadata": {},
   "source": [
    "## 1. Importing Libs for Preprocessing\n",
    "\n",
    "Ses verilerimizi işleyebilmek için *librosa* paketimizden faydalanacağız."
   ]
  },
  {
   "cell_type": "code",
   "execution_count": 1,
   "id": "66d96099",
   "metadata": {},
   "outputs": [
    {
     "name": "stderr",
     "output_type": "stream",
     "text": [
      "C:\\Users\\arife\\anaconda3\\envs\\tf-gpu\\lib\\site-packages\\paramiko\\transport.py:219: CryptographyDeprecationWarning: Blowfish has been deprecated\n",
      "  \"class\": algorithms.Blowfish,\n"
     ]
    }
   ],
   "source": [
    "import librosa\n",
    "import pandas as pd\n",
    "import numpy as np\n",
    "import matplotlib.pyplot as plt\n",
    "import os\n",
    "import csv\n",
    "from sklearn.model_selection import train_test_split\n",
    "from sklearn.preprocessing import LabelEncoder, StandardScaler"
   ]
  },
  {
   "cell_type": "markdown",
   "id": "5c3efaff",
   "metadata": {},
   "source": [
    "## 2. Uploading & Preprocessing Data\n",
    "\n"
   ]
  },
  {
   "cell_type": "code",
   "execution_count": 2,
   "id": "deae1ba3",
   "metadata": {},
   "outputs": [],
   "source": [
    "header = 'filename chroma_stft rmse spectral_centroid spectral_bandwidth rolloff zero_crossing_rate'\n",
    "for i in range(1, 21):\n",
    "    header += f' mfcc{i}'\n",
    "header += ' label'\n",
    "header = header.split()\n",
    "\n",
    "csvfilepath = 'csvfile/audioDatas.csv'"
   ]
  },
  {
   "cell_type": "markdown",
   "id": "94e826bc",
   "metadata": {},
   "source": [
    "dgfd"
   ]
  },
  {
   "cell_type": "code",
   "execution_count": 3,
   "id": "dc7e6f33",
   "metadata": {},
   "outputs": [],
   "source": [
    "file = open(csvfilepath, 'w', newline='')\n",
    "with file:\n",
    "    writer = csv.writer(file)\n",
    "    writer.writerow(header)\n",
    "genres = 'blues classical country disco hiphop jazz metal pop reggae rock'.split()\n",
    "for g in genres:\n",
    "    for filename in os.listdir(f'genres/{g}'):\n",
    "        songname = f'genres/{g}/{filename}'\n",
    "        y, sr = librosa.load(songname, mono=True, duration=30)\n",
    "        chroma_stft = librosa.feature.chroma_stft(y=y, sr=sr)\n",
    "        rmse = librosa.feature.rms(y=y)\n",
    "        spec_cent = librosa.feature.spectral_centroid(y=y, sr=sr)\n",
    "        spec_bw = librosa.feature.spectral_bandwidth(y=y, sr=sr)\n",
    "        rolloff = librosa.feature.spectral_rolloff(y=y, sr=sr)\n",
    "        zcr = librosa.feature.zero_crossing_rate(y)\n",
    "        mfcc = librosa.feature.mfcc(y=y, sr=sr)\n",
    "        to_append = f'{filename} {np.mean(chroma_stft)} {np.mean(rmse)} {np.mean(spec_cent)} {np.mean(spec_bw)} {np.mean(rolloff)} {np.mean(zcr)}'    \n",
    "        for e in mfcc:\n",
    "            to_append += f' {np.mean(e)}'\n",
    "        to_append += f' {g}'\n",
    "        file = open(csvfilepath, 'a', newline='')\n",
    "        with file:\n",
    "            writer = csv.writer(file)\n",
    "            writer.writerow(to_append.split())"
   ]
  },
  {
   "cell_type": "markdown",
   "id": "adeb5c97",
   "metadata": {},
   "source": [
    "gözlem"
   ]
  },
  {
   "cell_type": "code",
   "execution_count": 4,
   "id": "570ef9ac",
   "metadata": {},
   "outputs": [
    {
     "data": {
      "text/html": [
       "<div>\n",
       "<style scoped>\n",
       "    .dataframe tbody tr th:only-of-type {\n",
       "        vertical-align: middle;\n",
       "    }\n",
       "\n",
       "    .dataframe tbody tr th {\n",
       "        vertical-align: top;\n",
       "    }\n",
       "\n",
       "    .dataframe thead th {\n",
       "        text-align: right;\n",
       "    }\n",
       "</style>\n",
       "<table border=\"1\" class=\"dataframe\">\n",
       "  <thead>\n",
       "    <tr style=\"text-align: right;\">\n",
       "      <th></th>\n",
       "      <th>filename</th>\n",
       "      <th>chroma_stft</th>\n",
       "      <th>rmse</th>\n",
       "      <th>spectral_centroid</th>\n",
       "      <th>spectral_bandwidth</th>\n",
       "      <th>rolloff</th>\n",
       "      <th>zero_crossing_rate</th>\n",
       "      <th>mfcc1</th>\n",
       "      <th>mfcc2</th>\n",
       "      <th>mfcc3</th>\n",
       "      <th>...</th>\n",
       "      <th>mfcc12</th>\n",
       "      <th>mfcc13</th>\n",
       "      <th>mfcc14</th>\n",
       "      <th>mfcc15</th>\n",
       "      <th>mfcc16</th>\n",
       "      <th>mfcc17</th>\n",
       "      <th>mfcc18</th>\n",
       "      <th>mfcc19</th>\n",
       "      <th>mfcc20</th>\n",
       "      <th>label</th>\n",
       "    </tr>\n",
       "  </thead>\n",
       "  <tbody>\n",
       "    <tr>\n",
       "      <th>0</th>\n",
       "      <td>blues.00000.au</td>\n",
       "      <td>0.349951</td>\n",
       "      <td>0.130192</td>\n",
       "      <td>1784.416546</td>\n",
       "      <td>2002.657106</td>\n",
       "      <td>3806.418650</td>\n",
       "      <td>0.083066</td>\n",
       "      <td>-113.619385</td>\n",
       "      <td>121.553017</td>\n",
       "      <td>-19.151056</td>\n",
       "      <td>...</td>\n",
       "      <td>8.806787</td>\n",
       "      <td>-3.665802</td>\n",
       "      <td>5.745939</td>\n",
       "      <td>-5.161711</td>\n",
       "      <td>0.750298</td>\n",
       "      <td>-1.688358</td>\n",
       "      <td>-0.409329</td>\n",
       "      <td>-2.298869</td>\n",
       "      <td>1.219947</td>\n",
       "      <td>blues</td>\n",
       "    </tr>\n",
       "    <tr>\n",
       "      <th>1</th>\n",
       "      <td>blues.00001.au</td>\n",
       "      <td>0.340945</td>\n",
       "      <td>0.095892</td>\n",
       "      <td>1529.871314</td>\n",
       "      <td>2038.612143</td>\n",
       "      <td>3548.986873</td>\n",
       "      <td>0.056044</td>\n",
       "      <td>-207.581512</td>\n",
       "      <td>123.997147</td>\n",
       "      <td>8.939115</td>\n",
       "      <td>...</td>\n",
       "      <td>5.375942</td>\n",
       "      <td>-2.237833</td>\n",
       "      <td>4.217125</td>\n",
       "      <td>-6.011047</td>\n",
       "      <td>0.932668</td>\n",
       "      <td>-0.717028</td>\n",
       "      <td>0.292333</td>\n",
       "      <td>-0.285717</td>\n",
       "      <td>0.532144</td>\n",
       "      <td>blues</td>\n",
       "    </tr>\n",
       "    <tr>\n",
       "      <th>2</th>\n",
       "      <td>blues.00002.au</td>\n",
       "      <td>0.363562</td>\n",
       "      <td>0.175494</td>\n",
       "      <td>1552.637786</td>\n",
       "      <td>1747.382028</td>\n",
       "      <td>3041.089944</td>\n",
       "      <td>0.076301</td>\n",
       "      <td>-90.776344</td>\n",
       "      <td>140.448608</td>\n",
       "      <td>-29.100559</td>\n",
       "      <td>...</td>\n",
       "      <td>5.785763</td>\n",
       "      <td>-8.899733</td>\n",
       "      <td>-1.087024</td>\n",
       "      <td>-9.216774</td>\n",
       "      <td>2.453648</td>\n",
       "      <td>-7.721793</td>\n",
       "      <td>-1.816497</td>\n",
       "      <td>-3.434354</td>\n",
       "      <td>-2.231391</td>\n",
       "      <td>blues</td>\n",
       "    </tr>\n",
       "    <tr>\n",
       "      <th>3</th>\n",
       "      <td>blues.00003.au</td>\n",
       "      <td>0.404848</td>\n",
       "      <td>0.141139</td>\n",
       "      <td>1070.110059</td>\n",
       "      <td>1596.244204</td>\n",
       "      <td>2185.061787</td>\n",
       "      <td>0.033309</td>\n",
       "      <td>-199.462006</td>\n",
       "      <td>150.094727</td>\n",
       "      <td>5.649167</td>\n",
       "      <td>...</td>\n",
       "      <td>6.085353</td>\n",
       "      <td>-2.476188</td>\n",
       "      <td>-1.076225</td>\n",
       "      <td>-2.876056</td>\n",
       "      <td>0.776909</td>\n",
       "      <td>-3.320055</td>\n",
       "      <td>0.637263</td>\n",
       "      <td>-0.617507</td>\n",
       "      <td>-3.406940</td>\n",
       "      <td>blues</td>\n",
       "    </tr>\n",
       "    <tr>\n",
       "      <th>4</th>\n",
       "      <td>blues.00004.au</td>\n",
       "      <td>0.308598</td>\n",
       "      <td>0.091540</td>\n",
       "      <td>1835.507009</td>\n",
       "      <td>1748.367477</td>\n",
       "      <td>3581.003346</td>\n",
       "      <td>0.101500</td>\n",
       "      <td>-160.291855</td>\n",
       "      <td>126.195763</td>\n",
       "      <td>-35.602501</td>\n",
       "      <td>...</td>\n",
       "      <td>-2.809849</td>\n",
       "      <td>-6.935621</td>\n",
       "      <td>-7.559294</td>\n",
       "      <td>-9.172152</td>\n",
       "      <td>-4.510408</td>\n",
       "      <td>-5.453736</td>\n",
       "      <td>-0.924468</td>\n",
       "      <td>-4.408076</td>\n",
       "      <td>-11.701833</td>\n",
       "      <td>blues</td>\n",
       "    </tr>\n",
       "  </tbody>\n",
       "</table>\n",
       "<p>5 rows × 28 columns</p>\n",
       "</div>"
      ],
      "text/plain": [
       "         filename  chroma_stft      rmse  spectral_centroid  \\\n",
       "0  blues.00000.au     0.349951  0.130192        1784.416546   \n",
       "1  blues.00001.au     0.340945  0.095892        1529.871314   \n",
       "2  blues.00002.au     0.363562  0.175494        1552.637786   \n",
       "3  blues.00003.au     0.404848  0.141139        1070.110059   \n",
       "4  blues.00004.au     0.308598  0.091540        1835.507009   \n",
       "\n",
       "   spectral_bandwidth      rolloff  zero_crossing_rate       mfcc1  \\\n",
       "0         2002.657106  3806.418650            0.083066 -113.619385   \n",
       "1         2038.612143  3548.986873            0.056044 -207.581512   \n",
       "2         1747.382028  3041.089944            0.076301  -90.776344   \n",
       "3         1596.244204  2185.061787            0.033309 -199.462006   \n",
       "4         1748.367477  3581.003346            0.101500 -160.291855   \n",
       "\n",
       "        mfcc2      mfcc3  ...    mfcc12    mfcc13    mfcc14    mfcc15  \\\n",
       "0  121.553017 -19.151056  ...  8.806787 -3.665802  5.745939 -5.161711   \n",
       "1  123.997147   8.939115  ...  5.375942 -2.237833  4.217125 -6.011047   \n",
       "2  140.448608 -29.100559  ...  5.785763 -8.899733 -1.087024 -9.216774   \n",
       "3  150.094727   5.649167  ...  6.085353 -2.476188 -1.076225 -2.876056   \n",
       "4  126.195763 -35.602501  ... -2.809849 -6.935621 -7.559294 -9.172152   \n",
       "\n",
       "     mfcc16    mfcc17    mfcc18    mfcc19     mfcc20  label  \n",
       "0  0.750298 -1.688358 -0.409329 -2.298869   1.219947  blues  \n",
       "1  0.932668 -0.717028  0.292333 -0.285717   0.532144  blues  \n",
       "2  2.453648 -7.721793 -1.816497 -3.434354  -2.231391  blues  \n",
       "3  0.776909 -3.320055  0.637263 -0.617507  -3.406940  blues  \n",
       "4 -4.510408 -5.453736 -0.924468 -4.408076 -11.701833  blues  \n",
       "\n",
       "[5 rows x 28 columns]"
      ]
     },
     "execution_count": 4,
     "metadata": {},
     "output_type": "execute_result"
    }
   ],
   "source": [
    "data = pd.read_csv(csvfilepath)\n",
    "data.head()"
   ]
  },
  {
   "cell_type": "markdown",
   "id": "bc286613",
   "metadata": {},
   "source": [
    "Dropping unneccesary columns"
   ]
  },
  {
   "cell_type": "code",
   "execution_count": 5,
   "id": "2ec60170",
   "metadata": {},
   "outputs": [
    {
     "data": {
      "text/html": [
       "<div>\n",
       "<style scoped>\n",
       "    .dataframe tbody tr th:only-of-type {\n",
       "        vertical-align: middle;\n",
       "    }\n",
       "\n",
       "    .dataframe tbody tr th {\n",
       "        vertical-align: top;\n",
       "    }\n",
       "\n",
       "    .dataframe thead th {\n",
       "        text-align: right;\n",
       "    }\n",
       "</style>\n",
       "<table border=\"1\" class=\"dataframe\">\n",
       "  <thead>\n",
       "    <tr style=\"text-align: right;\">\n",
       "      <th></th>\n",
       "      <th>chroma_stft</th>\n",
       "      <th>rmse</th>\n",
       "      <th>spectral_centroid</th>\n",
       "      <th>spectral_bandwidth</th>\n",
       "      <th>rolloff</th>\n",
       "      <th>zero_crossing_rate</th>\n",
       "      <th>mfcc1</th>\n",
       "      <th>mfcc2</th>\n",
       "      <th>mfcc3</th>\n",
       "      <th>mfcc4</th>\n",
       "      <th>...</th>\n",
       "      <th>mfcc12</th>\n",
       "      <th>mfcc13</th>\n",
       "      <th>mfcc14</th>\n",
       "      <th>mfcc15</th>\n",
       "      <th>mfcc16</th>\n",
       "      <th>mfcc17</th>\n",
       "      <th>mfcc18</th>\n",
       "      <th>mfcc19</th>\n",
       "      <th>mfcc20</th>\n",
       "      <th>label</th>\n",
       "    </tr>\n",
       "  </thead>\n",
       "  <tbody>\n",
       "    <tr>\n",
       "      <th>0</th>\n",
       "      <td>0.349951</td>\n",
       "      <td>0.130192</td>\n",
       "      <td>1784.416546</td>\n",
       "      <td>2002.657106</td>\n",
       "      <td>3806.418650</td>\n",
       "      <td>0.083066</td>\n",
       "      <td>-113.619385</td>\n",
       "      <td>121.553017</td>\n",
       "      <td>-19.151056</td>\n",
       "      <td>42.345768</td>\n",
       "      <td>...</td>\n",
       "      <td>8.806787</td>\n",
       "      <td>-3.665802</td>\n",
       "      <td>5.745939</td>\n",
       "      <td>-5.161711</td>\n",
       "      <td>0.750298</td>\n",
       "      <td>-1.688358</td>\n",
       "      <td>-0.409329</td>\n",
       "      <td>-2.298869</td>\n",
       "      <td>1.219947</td>\n",
       "      <td>blues</td>\n",
       "    </tr>\n",
       "    <tr>\n",
       "      <th>1</th>\n",
       "      <td>0.340945</td>\n",
       "      <td>0.095892</td>\n",
       "      <td>1529.871314</td>\n",
       "      <td>2038.612143</td>\n",
       "      <td>3548.986873</td>\n",
       "      <td>0.056044</td>\n",
       "      <td>-207.581512</td>\n",
       "      <td>123.997147</td>\n",
       "      <td>8.939115</td>\n",
       "      <td>35.870762</td>\n",
       "      <td>...</td>\n",
       "      <td>5.375942</td>\n",
       "      <td>-2.237833</td>\n",
       "      <td>4.217125</td>\n",
       "      <td>-6.011047</td>\n",
       "      <td>0.932668</td>\n",
       "      <td>-0.717028</td>\n",
       "      <td>0.292333</td>\n",
       "      <td>-0.285717</td>\n",
       "      <td>0.532144</td>\n",
       "      <td>blues</td>\n",
       "    </tr>\n",
       "    <tr>\n",
       "      <th>2</th>\n",
       "      <td>0.363562</td>\n",
       "      <td>0.175494</td>\n",
       "      <td>1552.637786</td>\n",
       "      <td>1747.382028</td>\n",
       "      <td>3041.089944</td>\n",
       "      <td>0.076301</td>\n",
       "      <td>-90.776344</td>\n",
       "      <td>140.448608</td>\n",
       "      <td>-29.100559</td>\n",
       "      <td>31.687344</td>\n",
       "      <td>...</td>\n",
       "      <td>5.785763</td>\n",
       "      <td>-8.899733</td>\n",
       "      <td>-1.087024</td>\n",
       "      <td>-9.216774</td>\n",
       "      <td>2.453648</td>\n",
       "      <td>-7.721793</td>\n",
       "      <td>-1.816497</td>\n",
       "      <td>-3.434354</td>\n",
       "      <td>-2.231391</td>\n",
       "      <td>blues</td>\n",
       "    </tr>\n",
       "    <tr>\n",
       "      <th>3</th>\n",
       "      <td>0.404848</td>\n",
       "      <td>0.141139</td>\n",
       "      <td>1070.110059</td>\n",
       "      <td>1596.244204</td>\n",
       "      <td>2185.061787</td>\n",
       "      <td>0.033309</td>\n",
       "      <td>-199.462006</td>\n",
       "      <td>150.094727</td>\n",
       "      <td>5.649167</td>\n",
       "      <td>26.870148</td>\n",
       "      <td>...</td>\n",
       "      <td>6.085353</td>\n",
       "      <td>-2.476188</td>\n",
       "      <td>-1.076225</td>\n",
       "      <td>-2.876056</td>\n",
       "      <td>0.776909</td>\n",
       "      <td>-3.320055</td>\n",
       "      <td>0.637263</td>\n",
       "      <td>-0.617507</td>\n",
       "      <td>-3.406940</td>\n",
       "      <td>blues</td>\n",
       "    </tr>\n",
       "    <tr>\n",
       "      <th>4</th>\n",
       "      <td>0.308598</td>\n",
       "      <td>0.091540</td>\n",
       "      <td>1835.507009</td>\n",
       "      <td>1748.367477</td>\n",
       "      <td>3581.003346</td>\n",
       "      <td>0.101500</td>\n",
       "      <td>-160.291855</td>\n",
       "      <td>126.195763</td>\n",
       "      <td>-35.602501</td>\n",
       "      <td>22.151171</td>\n",
       "      <td>...</td>\n",
       "      <td>-2.809849</td>\n",
       "      <td>-6.935621</td>\n",
       "      <td>-7.559294</td>\n",
       "      <td>-9.172152</td>\n",
       "      <td>-4.510408</td>\n",
       "      <td>-5.453736</td>\n",
       "      <td>-0.924468</td>\n",
       "      <td>-4.408076</td>\n",
       "      <td>-11.701833</td>\n",
       "      <td>blues</td>\n",
       "    </tr>\n",
       "  </tbody>\n",
       "</table>\n",
       "<p>5 rows × 27 columns</p>\n",
       "</div>"
      ],
      "text/plain": [
       "   chroma_stft      rmse  spectral_centroid  spectral_bandwidth      rolloff  \\\n",
       "0     0.349951  0.130192        1784.416546         2002.657106  3806.418650   \n",
       "1     0.340945  0.095892        1529.871314         2038.612143  3548.986873   \n",
       "2     0.363562  0.175494        1552.637786         1747.382028  3041.089944   \n",
       "3     0.404848  0.141139        1070.110059         1596.244204  2185.061787   \n",
       "4     0.308598  0.091540        1835.507009         1748.367477  3581.003346   \n",
       "\n",
       "   zero_crossing_rate       mfcc1       mfcc2      mfcc3      mfcc4  ...  \\\n",
       "0            0.083066 -113.619385  121.553017 -19.151056  42.345768  ...   \n",
       "1            0.056044 -207.581512  123.997147   8.939115  35.870762  ...   \n",
       "2            0.076301  -90.776344  140.448608 -29.100559  31.687344  ...   \n",
       "3            0.033309 -199.462006  150.094727   5.649167  26.870148  ...   \n",
       "4            0.101500 -160.291855  126.195763 -35.602501  22.151171  ...   \n",
       "\n",
       "     mfcc12    mfcc13    mfcc14    mfcc15    mfcc16    mfcc17    mfcc18  \\\n",
       "0  8.806787 -3.665802  5.745939 -5.161711  0.750298 -1.688358 -0.409329   \n",
       "1  5.375942 -2.237833  4.217125 -6.011047  0.932668 -0.717028  0.292333   \n",
       "2  5.785763 -8.899733 -1.087024 -9.216774  2.453648 -7.721793 -1.816497   \n",
       "3  6.085353 -2.476188 -1.076225 -2.876056  0.776909 -3.320055  0.637263   \n",
       "4 -2.809849 -6.935621 -7.559294 -9.172152 -4.510408 -5.453736 -0.924468   \n",
       "\n",
       "     mfcc19     mfcc20  label  \n",
       "0 -2.298869   1.219947  blues  \n",
       "1 -0.285717   0.532144  blues  \n",
       "2 -3.434354  -2.231391  blues  \n",
       "3 -0.617507  -3.406940  blues  \n",
       "4 -4.408076 -11.701833  blues  \n",
       "\n",
       "[5 rows x 27 columns]"
      ]
     },
     "execution_count": 5,
     "metadata": {},
     "output_type": "execute_result"
    }
   ],
   "source": [
    "data = data.drop(['filename'],axis=1)\n",
    "data.head()"
   ]
  },
  {
   "cell_type": "markdown",
   "id": "a2b86dd6",
   "metadata": {},
   "source": [
    "dfsfs"
   ]
  },
  {
   "cell_type": "code",
   "execution_count": 6,
   "id": "5c6ffa36",
   "metadata": {},
   "outputs": [
    {
     "name": "stdout",
     "output_type": "stream",
     "text": [
      "[0 0 0 0 0 0 0 0 0 0 0 0 0 0 0 0 0 0 0 0 0 0 0 0 0 0 0 0 0 0 0 0 0 0 0 0 0\n",
      " 0 0 0 0 0 0 0 0 0 0 0 0 0 0 0 0 0 0 0 0 0 0 0 0 0 0 0 0 0 0 0 0 0 0 0 0 0\n",
      " 0 0 0 0 0 0 0 0 0 0 0 0 0 0 0 0 0 0 0 0 0 0 0 0 0 0 1 1 1 1 1 1 1 1 1 1 1\n",
      " 1 1 1 1 1 1 1 1 1 1 1 1 1 1 1 1 1 1 1 1 1 1 1 1 1 1 1 1 1 1 1 1 1 1 1 1 1\n",
      " 1 1 1 1 1 1 1 1 1 1 1 1 1 1 1 1 1 1 1 1 1 1 1 1 1 1 1 1 1 1 1 1 1 1 1 1 1\n",
      " 1 1 1 1 1 1 1 1 1 1 1 1 1 1 1 2 2 2 2 2 2 2 2 2 2 2 2 2 2 2 2 2 2 2 2 2 2\n",
      " 2 2 2 2 2 2 2 2 2 2 2 2 2 2 2 2 2 2 2 2 2 2 2 2 2 2 2 2 2 2 2 2 2 2 2 2 2\n",
      " 2 2 2 2 2 2 2 2 2 2 2 2 2 2 2 2 2 2 2 2 2 2 2 2 2 2 2 2 2 2 2 2 2 2 2 2 2\n",
      " 2 2 2 2 3 3 3 3 3 3 3 3 3 3 3 3 3 3 3 3 3 3 3 3 3 3 3 3 3 3 3 3 3 3 3 3 3\n",
      " 3 3 3 3 3 3 3 3 3 3 3 3 3 3 3 3 3 3 3 3 3 3 3 3 3 3 3 3 3 3 3 3 3 3 3 3 3\n",
      " 3 3 3 3 3 3 3 3 3 3 3 3 3 3 3 3 3 3 3 3 3 3 3 3 3 3 3 3 3 3 4 4 4 4 4 4 4\n",
      " 4 4 4 4 4 4 4 4 4 4 4 4 4 4 4 4 4 4 4 4 4 4 4 4 4 4 4 4 4 4 4 4 4 4 4 4 4\n",
      " 4 4 4 4 4 4 4 4 4 4 4 4 4 4 4 4 4 4 4 4 4 4 4 4 4 4 4 4 4 4 4 4 4 4 4 4 4\n",
      " 4 4 4 4 4 4 4 4 4 4 4 4 4 4 4 4 4 4 4 5 5 5 5 5 5 5 5 5 5 5 5 5 5 5 5 5 5\n",
      " 5 5 5 5 5 5 5 5 5 5 5 5 5 5 5 5 5 5 5 5 5 5 5 5 5 5 5 5 5 5 5 5 5 5 5 5 5\n",
      " 5 5 5 5 5 5 5 5 5 5 5 5 5 5 5 5 5 5 5 5 5 5 5 5 5 5 5 5 5 5 5 5 5 5 5 5 5\n",
      " 5 5 5 5 5 5 5 5 6 6 6 6 6 6 6 6 6 6 6 6 6 6 6 6 6 6 6 6 6 6 6 6 6 6 6 6 6\n",
      " 6 6 6 6 6 6 6 6 6 6 6 6 6 6 6 6 6 6 6 6 6 6 6 6 6 6 6 6 6 6 6 6 6 6 6 6 6\n",
      " 6 6 6 6 6 6 6 6 6 6 6 6 6 6 6 6 6 6 6 6 6 6 6 6 6 6 6 6 6 6 6 6 6 6 7 7 7\n",
      " 7 7 7 7 7 7 7 7 7 7 7 7 7 7 7 7 7 7 7 7 7 7 7 7 7 7 7 7 7 7 7 7 7 7 7 7 7\n",
      " 7 7 7 7 7 7 7 7 7 7 7 7 7 7 7 7 7 7 7 7 7 7 7 7 7 7 7 7 7 7 7 7 7 7 7 7 7\n",
      " 7 7 7 7 7 7 7 7 7 7 7 7 7 7 7 7 7 7 7 7 7 7 7 8 8 8 8 8 8 8 8 8 8 8 8 8 8\n",
      " 8 8 8 8 8 8 8 8 8 8 8 8 8 8 8 8 8 8 8 8 8 8 8 8 8 8 8 8 8 8 8 8 8 8 8 8 8\n",
      " 8 8 8 8 8 8 8 8 8 8 8 8 8 8 8 8 8 8 8 8 8 8 8 8 8 8 8 8 8 8 8 8 8 8 8 8 8\n",
      " 8 8 8 8 8 8 8 8 8 8 8 8 9 9 9 9 9 9 9 9 9 9 9 9 9 9 9 9 9 9 9 9 9 9 9 9 9\n",
      " 9 9 9 9 9 9 9 9 9 9 9 9 9 9 9 9 9 9 9 9 9 9 9 9 9 9 9 9 9 9 9 9 9 9 9 9 9\n",
      " 9 9 9 9 9 9 9 9 9 9 9 9 9 9 9 9 9 9 9 9 9 9 9 9 9 9 9 9 9 9 9 9 9 9 9 9 9\n",
      " 9]\n"
     ]
    }
   ],
   "source": [
    "genre_list = data.iloc[:, -1]\n",
    "encoder = LabelEncoder()\n",
    "y = encoder.fit_transform(genre_list)\n",
    "print(y)"
   ]
  },
  {
   "cell_type": "markdown",
   "id": "801c2cc1",
   "metadata": {},
   "source": [
    "fdgfdg"
   ]
  },
  {
   "cell_type": "code",
   "execution_count": 7,
   "id": "9c3c41d7",
   "metadata": {},
   "outputs": [],
   "source": [
    "scaler = StandardScaler()\n",
    "X = scaler.fit_transform(np.array(data.iloc[:, :-1], dtype = float))\n",
    "\n",
    "X_train, X_test, y_train, y_test = train_test_split(X, y, test_size=0.2)"
   ]
  },
  {
   "cell_type": "markdown",
   "id": "d22a3424",
   "metadata": {},
   "source": [
    "## 3. Importing Libs for Model Building"
   ]
  },
  {
   "cell_type": "code",
   "execution_count": 8,
   "id": "4b4ee67c",
   "metadata": {},
   "outputs": [],
   "source": [
    "from tensorflow import keras \n",
    "from tensorflow.keras import Sequential\n",
    "from tensorflow.keras import models\n",
    "from tensorflow.keras import layers"
   ]
  },
  {
   "cell_type": "markdown",
   "id": "6bbacde5",
   "metadata": {},
   "source": [
    "## 4. Building Model\n",
    "\n",
    "dsfdsgfd model hakkında detay bilgi"
   ]
  },
  {
   "cell_type": "code",
   "execution_count": 9,
   "id": "39feae9a",
   "metadata": {},
   "outputs": [],
   "source": [
    "model = models.Sequential()\n",
    "model.add(layers.Dense(256, activation='relu', input_shape=(X_train.shape[1],)))\n",
    "model.add(layers.Dense(128, activation='relu'))\n",
    "model.add(layers.Dense(64, activation='relu'))\n",
    "model.add(layers.Dense(10, activation='softmax'))"
   ]
  },
  {
   "cell_type": "markdown",
   "id": "6de3a361",
   "metadata": {},
   "source": [
    "## 5. Evaluatling\n",
    "dslkfms"
   ]
  },
  {
   "cell_type": "code",
   "execution_count": 10,
   "id": "2f77db3b",
   "metadata": {},
   "outputs": [],
   "source": [
    "model.compile(optimizer='adam',\n",
    "              loss='sparse_categorical_crossentropy',\n",
    "              metrics=['accuracy'])"
   ]
  },
  {
   "cell_type": "code",
   "execution_count": 11,
   "id": "4e42875b",
   "metadata": {},
   "outputs": [
    {
     "name": "stdout",
     "output_type": "stream",
     "text": [
      "Model: \"sequential\"\n",
      "_________________________________________________________________\n",
      "Layer (type)                 Output Shape              Param #   \n",
      "=================================================================\n",
      "dense (Dense)                (None, 256)               6912      \n",
      "_________________________________________________________________\n",
      "dense_1 (Dense)              (None, 128)               32896     \n",
      "_________________________________________________________________\n",
      "dense_2 (Dense)              (None, 64)                8256      \n",
      "_________________________________________________________________\n",
      "dense_3 (Dense)              (None, 10)                650       \n",
      "=================================================================\n",
      "Total params: 48,714\n",
      "Trainable params: 48,714\n",
      "Non-trainable params: 0\n",
      "_________________________________________________________________\n"
     ]
    }
   ],
   "source": [
    "model.summary()"
   ]
  },
  {
   "cell_type": "code",
   "execution_count": 12,
   "id": "6ba76e1e",
   "metadata": {},
   "outputs": [
    {
     "name": "stdout",
     "output_type": "stream",
     "text": [
      "Epoch 1/20\n",
      "7/7 [==============================] - 0s 4ms/step - loss: 2.1943 - accuracy: 0.2125\n",
      "Epoch 2/20\n",
      "7/7 [==============================] - 0s 3ms/step - loss: 1.8777 - accuracy: 0.3925\n",
      "Epoch 3/20\n",
      "7/7 [==============================] - 0s 4ms/step - loss: 1.6235 - accuracy: 0.4400\n",
      "Epoch 4/20\n",
      "7/7 [==============================] - 0s 4ms/step - loss: 1.4324 - accuracy: 0.4975\n",
      "Epoch 5/20\n",
      "7/7 [==============================] - 0s 5ms/step - loss: 1.2843 - accuracy: 0.5612\n",
      "Epoch 6/20\n",
      "7/7 [==============================] - 0s 5ms/step - loss: 1.1717 - accuracy: 0.5938\n",
      "Epoch 7/20\n",
      "7/7 [==============================] - 0s 4ms/step - loss: 1.0779 - accuracy: 0.6300\n",
      "Epoch 8/20\n",
      "7/7 [==============================] - 0s 3ms/step - loss: 1.0027 - accuracy: 0.6538\n",
      "Epoch 9/20\n",
      "7/7 [==============================] - 0s 3ms/step - loss: 0.9380 - accuracy: 0.7013\n",
      "Epoch 10/20\n",
      "7/7 [==============================] - 0s 3ms/step - loss: 0.8767 - accuracy: 0.7113\n",
      "Epoch 11/20\n",
      "7/7 [==============================] - 0s 3ms/step - loss: 0.8376 - accuracy: 0.7250\n",
      "Epoch 12/20\n",
      "7/7 [==============================] - 0s 2ms/step - loss: 0.7860 - accuracy: 0.7500\n",
      "Epoch 13/20\n",
      "7/7 [==============================] - 0s 3ms/step - loss: 0.7432 - accuracy: 0.7588\n",
      "Epoch 14/20\n",
      "7/7 [==============================] - 0s 3ms/step - loss: 0.7115 - accuracy: 0.7800\n",
      "Epoch 15/20\n",
      "7/7 [==============================] - 0s 3ms/step - loss: 0.6663 - accuracy: 0.7763\n",
      "Epoch 16/20\n",
      "7/7 [==============================] - 0s 3ms/step - loss: 0.6429 - accuracy: 0.7800\n",
      "Epoch 17/20\n",
      "7/7 [==============================] - 0s 4ms/step - loss: 0.6054 - accuracy: 0.7987\n",
      "Epoch 18/20\n",
      "7/7 [==============================] - 0s 3ms/step - loss: 0.5704 - accuracy: 0.8087\n",
      "Epoch 19/20\n",
      "7/7 [==============================] - 0s 2ms/step - loss: 0.5464 - accuracy: 0.8263\n",
      "Epoch 20/20\n",
      "7/7 [==============================] - 0s 3ms/step - loss: 0.5251 - accuracy: 0.8375\n"
     ]
    }
   ],
   "source": [
    "history = model.fit(X_train,\n",
    "                    y_train,\n",
    "                    epochs=20,\n",
    "                    batch_size=128)"
   ]
  },
  {
   "cell_type": "markdown",
   "id": "7d401081",
   "metadata": {},
   "source": [
    "dsgdgdg"
   ]
  },
  {
   "cell_type": "code",
   "execution_count": 13,
   "id": "99f8c378",
   "metadata": {},
   "outputs": [
    {
     "name": "stdout",
     "output_type": "stream",
     "text": [
      "7/7 [==============================] - 0s 3ms/step - loss: 1.0070 - accuracy: 0.6400\n",
      "test_acc:  0.6399999856948853\n"
     ]
    }
   ],
   "source": [
    "test_loss, test_acc = model.evaluate(X_test,y_test)\n",
    "print('test_acc: ',test_acc)"
   ]
  },
  {
   "cell_type": "markdown",
   "id": "d63725bb",
   "metadata": {},
   "source": [
    "fdgfdgdf"
   ]
  },
  {
   "cell_type": "code",
   "execution_count": 15,
   "id": "8eca7013",
   "metadata": {},
   "outputs": [
    {
     "data": {
      "text/plain": [
       "0"
      ]
     },
     "execution_count": 15,
     "metadata": {},
     "output_type": "execute_result"
    }
   ],
   "source": [
    "predictions = model.predict(X_test)\n",
    "np.argmax(predictions[2])"
   ]
  },
  {
   "cell_type": "markdown",
   "id": "38de02a3",
   "metadata": {},
   "source": [
    "fdgfdgdfg"
   ]
  },
  {
   "cell_type": "code",
   "execution_count": 16,
   "id": "cb3e9eec",
   "metadata": {},
   "outputs": [],
   "source": [
    "maxpredicts = []\n",
    "for element in predictions:\n",
    "    temp = np.argmax(element)\n",
    "    maxpredicts.append(temp)\n",
    "    \n",
    "y_pred = np.array(maxpredicts)    "
   ]
  },
  {
   "cell_type": "markdown",
   "id": "e7af10a0",
   "metadata": {},
   "source": [
    "dgfdhdgs"
   ]
  },
  {
   "cell_type": "code",
   "execution_count": 17,
   "id": "e4a036f2",
   "metadata": {},
   "outputs": [],
   "source": [
    "target_names = ['0blues', '1classical', '2country', '3disco', '4hiphop', '5jazz', '6metal', '7pop', '8reggae', '9rock']"
   ]
  },
  {
   "cell_type": "markdown",
   "id": "d5221cb8",
   "metadata": {},
   "source": [
    "dfgfdhdfg"
   ]
  },
  {
   "cell_type": "code",
   "execution_count": 18,
   "id": "36ab18a9",
   "metadata": {
    "scrolled": false
   },
   "outputs": [
    {
     "data": {
      "text/plain": [
       "'              precision    recall  f1-score   support\\n\\n      0blues       0.64      0.67      0.65        21\\n  1classical       0.86      0.86      0.86        22\\n    2country       0.67      0.56      0.61        18\\n      3disco       0.59      0.71      0.64        24\\n     4hiphop       0.67      0.42      0.51        24\\n       5jazz       0.62      0.68      0.65        19\\n      6metal       0.72      0.81      0.76        16\\n        7pop       0.68      0.77      0.72        22\\n     8reggae       0.57      0.71      0.63        17\\n       9rock       0.25      0.18      0.21        17\\n\\n    accuracy                           0.64       200\\n   macro avg       0.63      0.64      0.63       200\\nweighted avg       0.63      0.64      0.63       200\\n'"
      ]
     },
     "execution_count": 18,
     "metadata": {},
     "output_type": "execute_result"
    }
   ],
   "source": [
    "from sklearn.metrics import classification_report\n",
    "classification_report(y_test, y_pred, target_names=target_names)"
   ]
  },
  {
   "cell_type": "code",
   "execution_count": 30,
   "id": "b6f2dcd2",
   "metadata": {},
   "outputs": [],
   "source": [
    "clsf_report = pd.DataFrame(classification_report(y_true = y_test, y_pred = y_pred, output_dict=True)).transpose()\n",
    "clsf_report.to_csv('csvfile/Classification Report Name.csv', index= True)"
   ]
  },
  {
   "cell_type": "markdown",
   "id": "8b272fcb",
   "metadata": {},
   "source": [
    "dfgfdgh\n"
   ]
  },
  {
   "cell_type": "code",
   "execution_count": 34,
   "id": "abbba73b",
   "metadata": {},
   "outputs": [
    {
     "data": {
      "text/html": [
       "<div>\n",
       "<style scoped>\n",
       "    .dataframe tbody tr th:only-of-type {\n",
       "        vertical-align: middle;\n",
       "    }\n",
       "\n",
       "    .dataframe tbody tr th {\n",
       "        vertical-align: top;\n",
       "    }\n",
       "\n",
       "    .dataframe thead th {\n",
       "        text-align: right;\n",
       "    }\n",
       "</style>\n",
       "<table border=\"1\" class=\"dataframe\">\n",
       "  <thead>\n",
       "    <tr style=\"text-align: right;\">\n",
       "      <th></th>\n",
       "      <th>precision</th>\n",
       "      <th>recall</th>\n",
       "      <th>f1-score</th>\n",
       "      <th>support</th>\n",
       "    </tr>\n",
       "  </thead>\n",
       "  <tbody>\n",
       "    <tr>\n",
       "      <th>0</th>\n",
       "      <td>0.636364</td>\n",
       "      <td>0.666667</td>\n",
       "      <td>0.651163</td>\n",
       "      <td>21.00</td>\n",
       "    </tr>\n",
       "    <tr>\n",
       "      <th>1</th>\n",
       "      <td>0.863636</td>\n",
       "      <td>0.863636</td>\n",
       "      <td>0.863636</td>\n",
       "      <td>22.00</td>\n",
       "    </tr>\n",
       "    <tr>\n",
       "      <th>2</th>\n",
       "      <td>0.666667</td>\n",
       "      <td>0.555556</td>\n",
       "      <td>0.606061</td>\n",
       "      <td>18.00</td>\n",
       "    </tr>\n",
       "    <tr>\n",
       "      <th>3</th>\n",
       "      <td>0.586207</td>\n",
       "      <td>0.708333</td>\n",
       "      <td>0.641509</td>\n",
       "      <td>24.00</td>\n",
       "    </tr>\n",
       "    <tr>\n",
       "      <th>4</th>\n",
       "      <td>0.666667</td>\n",
       "      <td>0.416667</td>\n",
       "      <td>0.512821</td>\n",
       "      <td>24.00</td>\n",
       "    </tr>\n",
       "    <tr>\n",
       "      <th>5</th>\n",
       "      <td>0.619048</td>\n",
       "      <td>0.684211</td>\n",
       "      <td>0.650000</td>\n",
       "      <td>19.00</td>\n",
       "    </tr>\n",
       "    <tr>\n",
       "      <th>6</th>\n",
       "      <td>0.722222</td>\n",
       "      <td>0.812500</td>\n",
       "      <td>0.764706</td>\n",
       "      <td>16.00</td>\n",
       "    </tr>\n",
       "    <tr>\n",
       "      <th>7</th>\n",
       "      <td>0.680000</td>\n",
       "      <td>0.772727</td>\n",
       "      <td>0.723404</td>\n",
       "      <td>22.00</td>\n",
       "    </tr>\n",
       "    <tr>\n",
       "      <th>8</th>\n",
       "      <td>0.571429</td>\n",
       "      <td>0.705882</td>\n",
       "      <td>0.631579</td>\n",
       "      <td>17.00</td>\n",
       "    </tr>\n",
       "    <tr>\n",
       "      <th>9</th>\n",
       "      <td>0.250000</td>\n",
       "      <td>0.176471</td>\n",
       "      <td>0.206897</td>\n",
       "      <td>17.00</td>\n",
       "    </tr>\n",
       "    <tr>\n",
       "      <th>accuracy</th>\n",
       "      <td>0.640000</td>\n",
       "      <td>0.640000</td>\n",
       "      <td>0.640000</td>\n",
       "      <td>0.64</td>\n",
       "    </tr>\n",
       "    <tr>\n",
       "      <th>macro avg</th>\n",
       "      <td>0.626224</td>\n",
       "      <td>0.636265</td>\n",
       "      <td>0.625178</td>\n",
       "      <td>200.00</td>\n",
       "    </tr>\n",
       "    <tr>\n",
       "      <th>weighted avg</th>\n",
       "      <td>0.633372</td>\n",
       "      <td>0.640000</td>\n",
       "      <td>0.630208</td>\n",
       "      <td>200.00</td>\n",
       "    </tr>\n",
       "  </tbody>\n",
       "</table>\n",
       "</div>"
      ],
      "text/plain": [
       "              precision    recall  f1-score  support\n",
       "0              0.636364  0.666667  0.651163    21.00\n",
       "1              0.863636  0.863636  0.863636    22.00\n",
       "2              0.666667  0.555556  0.606061    18.00\n",
       "3              0.586207  0.708333  0.641509    24.00\n",
       "4              0.666667  0.416667  0.512821    24.00\n",
       "5              0.619048  0.684211  0.650000    19.00\n",
       "6              0.722222  0.812500  0.764706    16.00\n",
       "7              0.680000  0.772727  0.723404    22.00\n",
       "8              0.571429  0.705882  0.631579    17.00\n",
       "9              0.250000  0.176471  0.206897    17.00\n",
       "accuracy       0.640000  0.640000  0.640000     0.64\n",
       "macro avg      0.626224  0.636265  0.625178   200.00\n",
       "weighted avg   0.633372  0.640000  0.630208   200.00"
      ]
     },
     "execution_count": 34,
     "metadata": {},
     "output_type": "execute_result"
    }
   ],
   "source": [
    "clsf_report"
   ]
  },
  {
   "cell_type": "code",
   "execution_count": null,
   "id": "f38820e2",
   "metadata": {},
   "outputs": [],
   "source": []
  }
 ],
 "metadata": {
  "kernelspec": {
   "display_name": "Python 3 (ipykernel)",
   "language": "python",
   "name": "python3"
  },
  "language_info": {
   "codemirror_mode": {
    "name": "ipython",
    "version": 3
   },
   "file_extension": ".py",
   "mimetype": "text/x-python",
   "name": "python",
   "nbconvert_exporter": "python",
   "pygments_lexer": "ipython3",
   "version": "3.8.13"
  }
 },
 "nbformat": 4,
 "nbformat_minor": 5
}
